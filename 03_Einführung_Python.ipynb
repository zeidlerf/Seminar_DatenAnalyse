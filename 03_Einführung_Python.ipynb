{
 "cells": [
  {
   "cell_type": "markdown",
   "metadata": {},
   "source": [
    "# Einführung in Python\n",
    "\n",
    "Nachdem Sie im vorangegangenen Kapitel einen kurze Einführung in den Aufgaben und die Funktionsweise von Jupyter Notebooks erhalten haben, sind wir jetzt endlich soweit uns mit Python zu beschäftigen.  \n",
    "(Hinweis: technisch gesehen wurden auch die einfachen Berechnungen im vorangegangen Kapitel bereits in Python durchgeführt)\n",
    "\n",
    "Python ist eine sogenannte **interpretierte** Programmiersprache (Interpretersprache), was bedeutet, dass die Sprache nicht wie z.B. C oder Fortran kompiliert, sonder während der Laufzeit ausgeführt wird. Dies führt dazu, dass Python deutlich langsamer ist als kompilierte Sprachen. Darüber hinaus ist Python eine **dynamisch typisierte** Sprache, was bedeutet, dass Variablen-Typen - anders als bei z.B. C - vorab nicht definiert werden müssen und diese sich während der Laufzeit ändern können.   "
   ]
  },
  {
   "cell_type": "markdown",
   "metadata": {
    "heading_collapsed": true
   },
   "source": [
    "## Warum sollte man Python lernen?\n",
    "\n",
    "Python ist eine High-Level Sprache, die sehr einfach zu erlernen ist, weil Sie durch einfache und kompakte Syntax besticht. Python Code sieht deshalb oft sehr intuitiv aus und ist gerade für Programmiereinsteiger eine ideale Sprache für den Start. Trotz dieser Einfachheit ist Python dennoch sehr mächtig und eine sogenannte \"all purpose\" Sprache, d.h. es gibt keinen Einsatzzweck für welchen Sie Python nicht nutzen könnten (was nicht bedeutet, dass es nicht bessere Sprachen für spezifische Zwecke gäbe). "
   ]
  },
  {
   "cell_type": "markdown",
   "metadata": {
    "hidden": true
   },
   "source": [
    "### Python ist beliebt"
   ]
  },
  {
   "cell_type": "markdown",
   "metadata": {
    "hidden": true
   },
   "source": [
    "Python hat in den letzten Jahren drastisch an Beliebtheit gewonnen und gilt derzeit als eine der drei weitverbreitesten Programmiersprachen der Welt. \n",
    "\n",
    "Siehe z.B. die zeitliche Entwicklung (in %) der Fragen auf [Stackoverflow](https://stackoverflow.com/) nach Programmiersprache:\n",
    "\n",
    "![Python Stackoverflow](./assets/Popular_Python.png)\n",
    "\n",
    "oder den TIOBE Index aus März 2019:\n",
    "\n",
    "![Python TIOBE](./assets/Popular_Python_2.png)"
   ]
  },
  {
   "cell_type": "markdown",
   "metadata": {
    "hidden": true
   },
   "source": [
    "### Python ist für Datenanalyse geeignet"
   ]
  },
  {
   "cell_type": "markdown",
   "metadata": {
    "hidden": true
   },
   "source": [
    "Warum ist Python derzeit so beliebt? Neben der Kombination aus Einfachheit und Mächtigkeit ist einer der Hauptgründe sicherlich, dass sich Python als die Sprache der Wahl im Bereich `Machine Learning` und insbesondere `Deep Learning` etabliert hat. So sind z.B. die zwei **führenden Deep Learning Bibliotheken** \n",
    "\n",
    "- Tensorflow\n",
    "\n",
    "- Pytorch \n",
    "\n",
    "beide als Open Source Bibliotheken auf Python basierend  \n",
    "(Hinweis: technisch gesehen ist ein Großteil der Bibliotheken in C ausgelagert, jedoch erfolgt die Nutzung der Bibliotheken über einen Python-Wrapper). \n",
    "\n",
    "Dies hat dazu geführt, dass nahezu alle Anwendungen im Bereich Machine Learning oder Predictive Analytics zumindest zu Teilen in Python programmiert sind. \n",
    "\n",
    "Neben den Bibliotheken für Deep Learning stellt Python darüber hinaus unzählige Bibliotheken im Bereich **Machine Learning** (z.B. `scikit-learn`) und **allgemeiner Datenanalyse** (z.B. `Pandas`, `numpy` oder `matplotlib`).\n",
    "\n",
    "Darüber hinaus eignet sich Python insbesondere auch als Backend für Webanwendungen, was der Popularität der Sprache zusätzlich Auftrieb gibt (siehe z.B. `flask` oder `django`)."
   ]
  },
  {
   "cell_type": "markdown",
   "metadata": {
    "hidden": true
   },
   "source": [
    "### Kombination aus Jupyter Notebooks + Python"
   ]
  },
  {
   "cell_type": "markdown",
   "metadata": {
    "hidden": true
   },
   "source": [
    "Gerade bei der Datenanalyse muss oft explorativ vorgegangen werden und es ist das Ziel möglichst ohne großen Programmieraufwand fertige Prototypen zu lieferen. Hier ist die Kombination aus Jupyter Notebooks und Python sehr hilfreich. \n",
    "\n",
    "Der explorative Part wird durch die Funktionsweise von Jupyter Notebooks gewährleistet (Einfügen von neuen Zellen, visualisieren von Analysen etc.). Die simple Syntax von Python ermöglicht es Analysen schnell und übersichtlich zu programmieren. \n",
    "\n",
    "Als großer Konkurren ist hier `R` zu nennen, der über RMarkdown ebenfalls über einen Notebook-Konzept verfügt. R ist im Bereich Datenanalyse und Statistik sicherlich vielfältiger und kompletter. Jedoch ist Python in Summe die \"breiter aufgestellte\" Programmiersprache."
   ]
  },
  {
   "cell_type": "markdown",
   "metadata": {},
   "source": [
    "## Python Syntax"
   ]
  },
  {
   "cell_type": "markdown",
   "metadata": {},
   "source": [
    "Es gibt im Internet eine Vielzahl an guten Einführungen in die Syntax von Python. An dieser Stelle sollen nur ein selektiver Auszug gegeben werden,  um die Syntax und einige der Besonderheiten vorzustellen. \n",
    "\n",
    "Als erste Hilfe können Sie sich auf folgenden Seiten informieren:\n",
    "\n",
    "- eine deutsche Einführung finden Sie [hier](https://www.python-kurs.eu/python3_variablen.php)\n",
    "\n",
    "- eine englische Einführung finden Sie [hier](https://www.w3schools.com/python/python_intro.asp)\n",
    "\n",
    "Sie werden schnell feststellen, dass es Freude mach in Python zu programmieren, weil die Syntax im Vergleich zu vielen anderen Sprachen sehr intuitiv ist. "
   ]
  },
  {
   "cell_type": "markdown",
   "metadata": {},
   "source": [
    "### Einfache Arithmetik"
   ]
  },
  {
   "cell_type": "markdown",
   "metadata": {},
   "source": [
    "Wie bereits im vorangegangenen Kapitel gesehen, können wir mit Python ganz einfache Berechnungen durchführen "
   ]
  },
  {
   "cell_type": "code",
   "execution_count": null,
   "metadata": {
    "scrolled": true
   },
   "outputs": [],
   "source": [
    "(5 * 12) / 3 + (4 - 1) * 5 + 2"
   ]
  },
  {
   "cell_type": "markdown",
   "metadata": {},
   "source": [
    "Wie man sieht kann man - analog zu einem Taschenrechner (oder Excel) - die bekannten arithmetischen Operatoren verwenden.\n",
    "\n",
    "`+` = Addition \n",
    "\n",
    "`-` = Subtraktion\n",
    "\n",
    "`*` = Multiplikation\n",
    "\n",
    "`/` = Division\n",
    "\n",
    "**Vorsicht!** `**` =  Potenzieren\n",
    "\n",
    "So ist die Schreibweise für $3^4$ in Python"
   ]
  },
  {
   "cell_type": "code",
   "execution_count": null,
   "metadata": {
    "scrolled": true
   },
   "outputs": [],
   "source": [
    "3**4 # = 3 * 3 * 3 * 3"
   ]
  },
  {
   "cell_type": "markdown",
   "metadata": {},
   "source": [
    "### Zuweisen von Variablen"
   ]
  },
  {
   "cell_type": "markdown",
   "metadata": {},
   "source": [
    "Variablen können in Python ganz einfach zugewiesen werden, in dem der Variable ein sinnvoller Name gegeben wird und diesem ein Wert zugewiesen wird. Eine Angabe des Typen ist dabei nicht nötig."
   ]
  },
  {
   "cell_type": "code",
   "execution_count": null,
   "metadata": {
    "scrolled": true
   },
   "outputs": [],
   "source": [
    "ganzezahl = 5\n",
    "ganzezahl"
   ]
  },
  {
   "cell_type": "code",
   "execution_count": null,
   "metadata": {
    "scrolled": true
   },
   "outputs": [],
   "source": [
    "Komma_Zahl = 3.5\n",
    "Komma_Zahl"
   ]
  },
  {
   "cell_type": "markdown",
   "metadata": {},
   "source": [
    "### Dynamische Typisierung"
   ]
  },
  {
   "cell_type": "markdown",
   "metadata": {},
   "source": [
    "Python ist eine dynamische typisierte Sprache, d.h. Variablentypen müssen nicht vorab definiert werden. Variablentypen können auch dynamisch verändert werden. \n",
    "\n",
    "**Hier ein Beispiel:**\n",
    "\n",
    "Die Variable **temperatur** wird deklariert und automatisch zum Typ `Integer` (Ganzzahl). In der darauffolgenden Zelle wird die Variable zu einem Typ `Float` (Kommazahl). "
   ]
  },
  {
   "cell_type": "code",
   "execution_count": null,
   "metadata": {
    "scrolled": true
   },
   "outputs": [],
   "source": [
    "temperatur = 12\n",
    "temperatur"
   ]
  },
  {
   "cell_type": "code",
   "execution_count": null,
   "metadata": {
    "scrolled": true
   },
   "outputs": [],
   "source": [
    "temperatur =  temperatur + 14.4556\n",
    "temperatur"
   ]
  },
  {
   "cell_type": "markdown",
   "metadata": {},
   "source": [
    "Den Typen einer Variable kann ich über das Kommando `type` feststellen."
   ]
  },
  {
   "cell_type": "code",
   "execution_count": null,
   "metadata": {
    "scrolled": true
   },
   "outputs": [],
   "source": [
    "temperatur = 12\n",
    "type(temperatur), temperatur"
   ]
  },
  {
   "cell_type": "code",
   "execution_count": null,
   "metadata": {
    "scrolled": true
   },
   "outputs": [],
   "source": [
    "temperatur = 12 + 14.4556\n",
    "type(temperatur), temperatur"
   ]
  },
  {
   "cell_type": "markdown",
   "metadata": {},
   "source": [
    "Das variable Typisierung ist dabei nicht auf numerische Typen beschränkt. So kann die Variable \"temperatur\" auch dynamisch zu einem String werden. "
   ]
  },
  {
   "cell_type": "code",
   "execution_count": null,
   "metadata": {
    "scrolled": true
   },
   "outputs": [],
   "source": [
    "temperatur = 12\n",
    "type(temperatur), temperatur"
   ]
  },
  {
   "cell_type": "code",
   "execution_count": null,
   "metadata": {
    "scrolled": true
   },
   "outputs": [],
   "source": [
    "temperatur = \"ein String\"\n",
    "type(temperatur), temperatur"
   ]
  },
  {
   "cell_type": "markdown",
   "metadata": {},
   "source": [
    "### Nützliche Hilfen"
   ]
  },
  {
   "cell_type": "markdown",
   "metadata": {},
   "source": [
    "**Woher weiß ich welche Methoden und Operationen für einen Typ oder Objekt verfügbar sind?**\n",
    "\n",
    "Sie können entweder die im vorangegangenen Kapitel erwähnte `tab completion` nutzen oder aber die `Hilfe-Funktionen`. Dies gilt für alle Objekte in Python (nicht nur die String-Variable)."
   ]
  },
  {
   "cell_type": "code",
   "execution_count": null,
   "metadata": {
    "scrolled": true
   },
   "outputs": [],
   "source": [
    "# Tab Completion (drücken Sie Tab)\n",
    "temperatur."
   ]
  },
  {
   "cell_type": "code",
   "execution_count": null,
   "metadata": {
    "scrolled": true
   },
   "outputs": [],
   "source": [
    "# zeigt alle Methoden (hier vom Typ String) an\n",
    "dir(temperatur)"
   ]
  },
  {
   "cell_type": "markdown",
   "metadata": {},
   "source": [
    "Wenn man Hilfe zu einer bestimmten Methode benötigt - hier z.B. zur Methode \"replace\" - kann `shift + tab + tab` helfen.\n",
    "\n",
    "![Tab Completion 3](./assets/Tab_Completion_3.png)"
   ]
  },
  {
   "cell_type": "code",
   "execution_count": null,
   "metadata": {
    "scrolled": true
   },
   "outputs": [],
   "source": [
    "temperatur.replace"
   ]
  },
  {
   "cell_type": "markdown",
   "metadata": {},
   "source": [
    "### Strings"
   ]
  },
  {
   "cell_type": "code",
   "execution_count": null,
   "metadata": {
    "scrolled": true
   },
   "outputs": [],
   "source": [
    "string = \"Ich bin ein kurzer String\""
   ]
  },
  {
   "cell_type": "markdown",
   "metadata": {},
   "source": [
    "Schreibe alles in Großbuchstaben"
   ]
  },
  {
   "cell_type": "code",
   "execution_count": null,
   "metadata": {
    "scrolled": true
   },
   "outputs": [],
   "source": [
    "string.upper()"
   ]
  },
  {
   "cell_type": "markdown",
   "metadata": {},
   "source": [
    "Schreibe alles in Kleinbuchstaben"
   ]
  },
  {
   "cell_type": "code",
   "execution_count": null,
   "metadata": {
    "scrolled": true
   },
   "outputs": [],
   "source": [
    "string.lower()"
   ]
  },
  {
   "cell_type": "markdown",
   "metadata": {},
   "source": [
    "Zähle, wie oft der Buchstabe Buchstaben \"i\" in der Variable \"string\" vorkommt"
   ]
  },
  {
   "cell_type": "code",
   "execution_count": null,
   "metadata": {
    "scrolled": true
   },
   "outputs": [],
   "source": [
    "string.count(\"i\")"
   ]
  },
  {
   "cell_type": "markdown",
   "metadata": {},
   "source": [
    "Ersetze das \"g\" durch ein \"k\""
   ]
  },
  {
   "cell_type": "code",
   "execution_count": null,
   "metadata": {
    "scrolled": true
   },
   "outputs": [],
   "source": [
    "string.replace(\"g\",\"k\")"
   ]
  },
  {
   "cell_type": "markdown",
   "metadata": {},
   "source": [
    "In Python können Methoden verkettet werden"
   ]
  },
  {
   "cell_type": "code",
   "execution_count": null,
   "metadata": {
    "scrolled": true
   },
   "outputs": [],
   "source": [
    "string.replace(\"i\",\"A\").upper().replace(\"E\",\"y\")"
   ]
  },
  {
   "cell_type": "markdown",
   "metadata": {},
   "source": [
    "Splitte die Variable \"string\" immer dort, wo ein Leerzeichen vorkommt"
   ]
  },
  {
   "cell_type": "code",
   "execution_count": null,
   "metadata": {
    "scrolled": true
   },
   "outputs": [],
   "source": [
    "wörter = string.split(\" \")\n",
    "wörter"
   ]
  },
  {
   "cell_type": "markdown",
   "metadata": {},
   "source": [
    "### Listen"
   ]
  },
  {
   "cell_type": "markdown",
   "metadata": {},
   "source": [
    "Die Variable \"wörter\" ist eine Liste"
   ]
  },
  {
   "cell_type": "code",
   "execution_count": null,
   "metadata": {
    "scrolled": true
   },
   "outputs": [],
   "source": [
    "type(wörter)"
   ]
  },
  {
   "cell_type": "markdown",
   "metadata": {},
   "source": [
    "Listen können eine beliebige Art von Elementen und unterschiedlichen Typen enthalten. "
   ]
  },
  {
   "cell_type": "code",
   "execution_count": null,
   "metadata": {
    "scrolled": true
   },
   "outputs": [],
   "source": [
    "liste = [\"Erster Eintrag\",2,\"a\",True,\"!\"]\n",
    "liste"
   ]
  },
  {
   "cell_type": "markdown",
   "metadata": {},
   "source": [
    "Via `[idx]` kann dann auf die einzelnen Elemente zugegriffen werden.\n",
    "\n",
    "<font color='red'>In Python beginnt das erste Element immer mit '0'</font>"
   ]
  },
  {
   "cell_type": "code",
   "execution_count": null,
   "metadata": {
    "scrolled": true
   },
   "outputs": [],
   "source": [
    "el_1 = liste[0]\n",
    "el_1, type(el_1)"
   ]
  },
  {
   "cell_type": "code",
   "execution_count": null,
   "metadata": {
    "scrolled": true
   },
   "outputs": [],
   "source": [
    "el_4 = liste[3]\n",
    "el_4, type(el_4)"
   ]
  },
  {
   "cell_type": "markdown",
   "metadata": {},
   "source": [
    "Es können auch mehrere Elemente gleichzeitig aus einer Liste extrahiert werden. Mit Hilfe der Notation `[:idx]` werden alle Elemente exklusive von `idx` extrahiert. In nachfolgenden Beispiel werden die Eintrage 0, 1 und 2 extrahiert"
   ]
  },
  {
   "cell_type": "code",
   "execution_count": null,
   "metadata": {
    "scrolled": true
   },
   "outputs": [],
   "source": [
    "liste[:3]"
   ]
  },
  {
   "cell_type": "markdown",
   "metadata": {},
   "source": [
    "Hier werden die letzten drei Einträge aus der Liste extrahiert"
   ]
  },
  {
   "cell_type": "code",
   "execution_count": null,
   "metadata": {
    "scrolled": true
   },
   "outputs": [],
   "source": [
    "liste[-3:]"
   ]
  },
  {
   "cell_type": "markdown",
   "metadata": {},
   "source": [
    "Listen können verändert werden"
   ]
  },
  {
   "cell_type": "code",
   "execution_count": null,
   "metadata": {
    "scrolled": true
   },
   "outputs": [],
   "source": [
    "liste[2] = \"neuer Eintrag\"\n",
    "liste"
   ]
  },
  {
   "cell_type": "markdown",
   "metadata": {},
   "source": [
    "Listen können verlängert werden"
   ]
  },
  {
   "cell_type": "code",
   "execution_count": null,
   "metadata": {
    "scrolled": true
   },
   "outputs": [],
   "source": [
    "liste.append(\"???\")\n",
    "liste"
   ]
  },
  {
   "cell_type": "markdown",
   "metadata": {},
   "source": [
    "Listen können auch verbunden werden in dem diese addiert werden"
   ]
  },
  {
   "cell_type": "code",
   "execution_count": null,
   "metadata": {
    "scrolled": true
   },
   "outputs": [],
   "source": [
    "liste1 = [1,2,3,4]\n",
    "liste2 = [5,6,7,8]\n",
    "liste1 + liste2"
   ]
  },
  {
   "cell_type": "markdown",
   "metadata": {},
   "source": [
    "[<< Zurück zu Einführung Jupyter Notebooks](02_Jupyter_Notebooks.ipynb) | [ Weiter zu Einführung Datenanalyse >>](04_Einführung_Datenanalyse.ipynb)"
   ]
  },
  {
   "cell_type": "markdown",
   "metadata": {},
   "source": [
    "### Control Flow"
   ]
  },
  {
   "cell_type": "markdown",
   "metadata": {},
   "source": [
    "Wie in den meisten Programmiersprachen können in Python sogenannte Control Flows durchgeführt werden. Z.B. ein `if statement` oder eine `for schleife`"
   ]
  },
  {
   "cell_type": "markdown",
   "metadata": {},
   "source": [
    "#### Einrücken"
   ]
  },
  {
   "cell_type": "markdown",
   "metadata": {},
   "source": [
    "Die Python-Syntax ist an dieser Stelle eher ungewohnt, da Control Flow Statements nicht z.B. durch geschwungene Klammern `{}` dargestellt werden, sondern durch einfaches `Einrücken`. Dies erfolgt über `4 Leerzeichen`, wobei Jupyter Notebooks dies eigenständig übernimmt, wenn es nötig wird."
   ]
  },
  {
   "cell_type": "markdown",
   "metadata": {},
   "source": [
    "#### If Statements"
   ]
  },
  {
   "cell_type": "code",
   "execution_count": null,
   "metadata": {
    "scrolled": true
   },
   "outputs": [],
   "source": [
    "# Einzelne If-Abfrage\n",
    "variable = 1\n",
    "\n",
    "if variable > 2:\n",
    "    print(\"Variable ist größer als 2\")"
   ]
  },
  {
   "cell_type": "code",
   "execution_count": null,
   "metadata": {
    "scrolled": true
   },
   "outputs": [],
   "source": [
    "# If-Else-Abfrage\n",
    "variable = 2\n",
    "\n",
    "if variable > 2:\n",
    "    print(\"Variable ist größer als 2\")\n",
    "else:\n",
    "    print(\"Variable ist kleiner oder gleich 2\")"
   ]
  },
  {
   "cell_type": "code",
   "execution_count": null,
   "metadata": {
    "scrolled": true
   },
   "outputs": [],
   "source": [
    "# If-Else-Abfrage\n",
    "variable = 2\n",
    "\n",
    "if variable > 2:\n",
    "    print(\"Variable ist größer als 2\")\n",
    "elif variable < 2:\n",
    "    print(\"Variable ist kleiner 2\")\n",
    "else: \n",
    "    print(\"Variable ist gleich 2\")"
   ]
  },
  {
   "cell_type": "markdown",
   "metadata": {},
   "source": [
    "Bei unterschiedlichen `boolean` Bedingungen müssen die jeweiligen Bedingungen in `()` geschrieben werden"
   ]
  },
  {
   "cell_type": "code",
   "execution_count": null,
   "metadata": {
    "scrolled": true
   },
   "outputs": [],
   "source": [
    "variable1 = 3\n",
    "variable2 = \"Celsius\"\n",
    "\n",
    "if (variable1 <= 4) & (variable2 == \"Celsius\"):\n",
    "    print(\"Vorsicht, es könnte glatt auf den Straßen sein\")\n",
    "elif (variable1 <=4) & (variable2 == \"Fahrenheit\"):\n",
    "    print(\"Bitte nicht rausgehen. Es ist gefährlich kalt!!!!!\")"
   ]
  },
  {
   "cell_type": "markdown",
   "metadata": {},
   "source": [
    "#### For-Schleifen"
   ]
  },
  {
   "cell_type": "markdown",
   "metadata": {},
   "source": [
    "Jede For-Schleife in Python hat die folgende grundsätzliche Strukur\n",
    "\n",
    "    >>> for item in object:\n",
    "            do something\n",
    "            \n",
    "Jedes iterierbare Objekt kann also durch eine For-Schleife durchlaufen werden. Das `Objekt` muss also exisiterien."
   ]
  },
  {
   "cell_type": "code",
   "execution_count": null,
   "metadata": {
    "scrolled": true
   },
   "outputs": [],
   "source": [
    "ein_string = \"Datenanalyse\" # In Python ist ein String ein iterierbares Objekt\n",
    "\n",
    "for buchstabe in ein_string:\n",
    "    print(buchstabe)"
   ]
  },
  {
   "cell_type": "markdown",
   "metadata": {},
   "source": [
    " Die Benennung von `item` ist dabei dem User überlassen."
   ]
  },
  {
   "cell_type": "code",
   "execution_count": null,
   "metadata": {
    "scrolled": true
   },
   "outputs": [],
   "source": [
    "for mein_name_für_ein_element in ein_string:\n",
    "    print(mein_name_für_ein_element)"
   ]
  },
  {
   "cell_type": "code",
   "execution_count": null,
   "metadata": {
    "scrolled": true
   },
   "outputs": [],
   "source": [
    "eine_list = [\"A\",\"b\",True,1,5,6,[\"Eine\",\"Liste\",\"in einer Liste\"],\"letztes Element\"] # in Python ist eine Liste ein iterierbares Objekt\n",
    "for el in eine_list:\n",
    "    print(el)"
   ]
  },
  {
   "cell_type": "markdown",
   "metadata": {},
   "source": [
    "Ein spezieles iterierbares Object ist das `range` Objekt. Möchte ich eine For-Schleife 10x durchlaufen schreiben wir"
   ]
  },
  {
   "cell_type": "code",
   "execution_count": null,
   "metadata": {
    "scrolled": true
   },
   "outputs": [],
   "source": [
    "for i in range(10):\n",
    "    print(i)"
   ]
  },
  {
   "cell_type": "markdown",
   "metadata": {},
   "source": [
    "#### List Comprehension"
   ]
  },
  {
   "cell_type": "markdown",
   "metadata": {},
   "source": [
    "In Python wird die Schreibweise\n",
    "\n",
    "    >>> for item in object:\n",
    "            do something\n",
    "            \n",
    "oft vermieden und stattdessen eine sogenannte `list comprehension` durchgeführt. Dies ist immer dann der Fall wenn wir als Ergebnis einer For-Schleife eine Liste benötigen. \n",
    "\n",
    "Beispiel: wir wollen eine Liste mit der Anzahl an Buchstaben je Name erzeugen (Hinweis: `len` = Länge eines Objektes)"
   ]
  },
  {
   "cell_type": "code",
   "execution_count": null,
   "metadata": {
    "scrolled": true
   },
   "outputs": [],
   "source": [
    "namen = [\"Kurt\",\"Anton\",\"Charlotte\",\"Johannes\",\"Ernst\",\"Ida\"]"
   ]
  },
  {
   "cell_type": "markdown",
   "metadata": {},
   "source": [
    "**List Comprehension**"
   ]
  },
  {
   "cell_type": "code",
   "execution_count": null,
   "metadata": {
    "scrolled": true
   },
   "outputs": [],
   "source": [
    "anz_buchstaben = [len(name) for name in namen] # List Comprehension\n",
    "anz_buchstaben"
   ]
  },
  {
   "cell_type": "markdown",
   "metadata": {},
   "source": [
    "Diese Schreibweise ist äquivalent zu \n",
    "\n",
    "**For-Schleife**"
   ]
  },
  {
   "cell_type": "code",
   "execution_count": null,
   "metadata": {
    "scrolled": true
   },
   "outputs": [],
   "source": [
    "anz_buchstaben = []\n",
    "for name in namen:\n",
    "    anz_buchstaben.append(len(name))\n",
    "anz_buchstaben"
   ]
  },
  {
   "cell_type": "markdown",
   "metadata": {},
   "source": [
    "Ein erfahrener Python-Programmierer würde jedoch immer die List Comprehension bevorzugen"
   ]
  },
  {
   "cell_type": "markdown",
   "metadata": {},
   "source": [
    "List Comprehensions können auch mit anderen Control Flows kombiniert werden.\n",
    "\n",
    "Beispiel: wir wollen eine Liste an Namen generieren, die mit einem Vokal beginnen "
   ]
  },
  {
   "cell_type": "code",
   "execution_count": null,
   "metadata": {
    "scrolled": true
   },
   "outputs": [],
   "source": [
    "vokale = list(\"AEIOU\")"
   ]
  },
  {
   "cell_type": "code",
   "execution_count": null,
   "metadata": {
    "scrolled": true
   },
   "outputs": [],
   "source": [
    "[name for name in namen if name[0] in vokale]"
   ]
  },
  {
   "cell_type": "markdown",
   "metadata": {},
   "source": [
    "Was ist hier passiert? Es wurde folgende Abfrage getätigt. \n",
    "\n",
    "Für jeden `name` in der Liste mit `name`. Falls das erste Element in `name` in der Liste `vokale` ist. Dann speicher den Namen in der neuen Liste"
   ]
  },
  {
   "cell_type": "markdown",
   "metadata": {},
   "source": [
    "#### While-Schleifen\n"
   ]
  },
  {
   "cell_type": "markdown",
   "metadata": {},
   "source": [
    "Jede While-Schleife in Python hat die folgende grundsätzliche Strukur\n",
    "\n",
    "```\n",
    ">>> while condition:\n",
    "        do something in this\n",
    "        code block as long as condition\n",
    "        evaluates as True\n",
    "```"
   ]
  },
  {
   "cell_type": "code",
   "execution_count": null,
   "metadata": {
    "scrolled": true
   },
   "outputs": [],
   "source": [
    "# Herunterzählen von einem Counter\n",
    "counter = 10\n",
    "while counter >= 0:\n",
    "    if counter == 0:\n",
    "        print(\"Abflug!\")\n",
    "    else:\n",
    "        print(f'{counter} Sekunden bis zum Abflug')\n",
    "    counter -= 1 # Äquivalent zu counter = counter - 1"
   ]
  },
  {
   "cell_type": "markdown",
   "metadata": {},
   "source": [
    "### Funktionen"
   ]
  },
  {
   "cell_type": "markdown",
   "metadata": {},
   "source": [
    "#### Python \"buildin\" Funktionen"
   ]
  },
  {
   "cell_type": "markdown",
   "metadata": {},
   "source": [
    "Python beinhaltet standardmäßig rund 70 Funktionen ([siehe hier](https://docs.python.org/3/library/functions.html)). Diese Funktionen können dementsprechend ohne weiteres Zutun verwendet werden. \n",
    "\n",
    "Ein Beispiel: die Funktion `sum`. \n",
    "\n",
    "(Hinweis: durch `shift + tab + tab` kann man Informationen zur Funktion finden)"
   ]
  },
  {
   "cell_type": "code",
   "execution_count": null,
   "metadata": {},
   "outputs": [],
   "source": [
    "liste = [1,4,5,6,7]\n",
    "sum(liste)"
   ]
  },
  {
   "cell_type": "code",
   "execution_count": null,
   "metadata": {},
   "outputs": [],
   "source": [
    "max(liste)"
   ]
  },
  {
   "cell_type": "code",
   "execution_count": null,
   "metadata": {},
   "outputs": [],
   "source": [
    "max(\"abcdefh\")"
   ]
  },
  {
   "cell_type": "markdown",
   "metadata": {},
   "source": [
    "#### Vom Nutzer definierte Funktionen"
   ]
  },
  {
   "cell_type": "markdown",
   "metadata": {},
   "source": [
    "Es ist klar, dass die 70 Standardfunktionen nicht ausreichen, um eigene Analysen durchzuführen. Insofern wird kein Nutzer drumherum kommen eigenen Funktionen zu schreiben. \n",
    "\n",
    "In Python ist jede Funktion wie folgt aufgebaut:\n",
    "\n",
    "    >>> def funcname(args):\n",
    "            do stuff\n",
    "            return result\n",
    "            \n",
    "Beispiel **Hello World**"
   ]
  },
  {
   "cell_type": "code",
   "execution_count": null,
   "metadata": {},
   "outputs": [],
   "source": [
    "def hello():\n",
    "    print(\"Hello, World!\")"
   ]
  },
  {
   "cell_type": "code",
   "execution_count": null,
   "metadata": {},
   "outputs": [],
   "source": [
    "hello()"
   ]
  },
  {
   "cell_type": "markdown",
   "metadata": {},
   "source": [
    "**Ein etwas komplexeres Beispiel:** Umrechnung von Celsius in Fahrenheit.\n",
    "\n",
    "$$ F = C \\times 1.8 + 32$$"
   ]
  },
  {
   "cell_type": "code",
   "execution_count": null,
   "metadata": {},
   "outputs": [],
   "source": [
    "def celsius_to_fahrenheit(celsius):\n",
    "    return celsius * 1.8 + 32"
   ]
  },
  {
   "cell_type": "code",
   "execution_count": null,
   "metadata": {},
   "outputs": [],
   "source": [
    "celsius_to_fahrenheit(20)"
   ]
  },
  {
   "cell_type": "markdown",
   "metadata": {},
   "source": [
    "In Python können Funktionen sowohl mehrere Inputargumente haben, als auch mehrere Return Argumente\n",
    "\n",
    "**Beispiel:** eine Funktion zum Verbinden von Strings. Als Input werden zwei Strings benötigt. Als Output wird (i) der verbundene String und (ii) der verbundene String in Großbuchstaben zurückgegeben"
   ]
  },
  {
   "cell_type": "code",
   "execution_count": null,
   "metadata": {},
   "outputs": [],
   "source": [
    "def concat_and_upper(string1, string2):\n",
    "    string_new = string1 + string2\n",
    "    return string_new, string_new.upper()"
   ]
  },
  {
   "cell_type": "code",
   "execution_count": null,
   "metadata": {},
   "outputs": [],
   "source": [
    "text1 = \"Dies ist ein\"\n",
    "text2 = \" Test, der hoffentlich funktioniert!\"\n",
    "output1, output2 = concat_and_upper(text1,text2)"
   ]
  },
  {
   "cell_type": "code",
   "execution_count": null,
   "metadata": {},
   "outputs": [],
   "source": [
    "output1"
   ]
  },
  {
   "cell_type": "code",
   "execution_count": null,
   "metadata": {},
   "outputs": [],
   "source": [
    "output2"
   ]
  },
  {
   "cell_type": "code",
   "execution_count": null,
   "metadata": {},
   "outputs": [],
   "source": [
    "output_combined = concat_and_upper(text1,text2)\n",
    "output_combined, type(output_combined)"
   ]
  },
  {
   "cell_type": "code",
   "execution_count": null,
   "metadata": {},
   "outputs": [],
   "source": [
    "output_combined[0]"
   ]
  },
  {
   "cell_type": "code",
   "execution_count": null,
   "metadata": {},
   "outputs": [],
   "source": [
    "output_combined[1]"
   ]
  },
  {
   "cell_type": "markdown",
   "metadata": {},
   "source": [
    "Schreibt man eigene Funktionen, sollte man diese mit sogenannten `doc strings` versehen. Hierbei handelt es sich um einen kurzen Text, der erläutert, was die Funktion tut (wobei die Vergabe des Funktionsnamens dies idealerweise auch schon verdeutlicht). "
   ]
  },
  {
   "cell_type": "code",
   "execution_count": null,
   "metadata": {},
   "outputs": [],
   "source": [
    "def sum_and_add_4(a,b):\n",
    "    '''\n",
    "    Summiert Input \"a\" und \"b\" und addiert 4 hinzu\n",
    "    \n",
    "    Input: zwei numerische Werte\n",
    "    Output: ein numerischer Wert\n",
    "    \n",
    "    Beispiel sum_and_add_4(4,2) gibt (4+2)+4 = 10 zurück\n",
    "    '''\n",
    "    \n",
    "    return (a+b) + 4"
   ]
  },
  {
   "cell_type": "code",
   "execution_count": null,
   "metadata": {},
   "outputs": [],
   "source": [
    "sum_and_add_4(4,2)"
   ]
  },
  {
   "cell_type": "markdown",
   "metadata": {},
   "source": [
    "Den beschreibenden Text wird dann via `shift + tab + tab` zugänglich. \n",
    "\n",
    "![Beispiel Docstring](./assets/Beispiel_Docstring.png)"
   ]
  },
  {
   "cell_type": "markdown",
   "metadata": {},
   "source": [
    "#### Annonyme Funktionen (lambda Funktionen)"
   ]
  },
  {
   "cell_type": "markdown",
   "metadata": {},
   "source": [
    "Manchmal möchte man eine kurze Berechnung durchführne und dafür nicht extra eine eigene Funktion benennen. Hierzu bieten sich `lambda Funktionen` an. "
   ]
  },
  {
   "cell_type": "code",
   "execution_count": null,
   "metadata": {},
   "outputs": [],
   "source": [
    "f = lambda a,b: (a + b) + 4"
   ]
  },
  {
   "cell_type": "code",
   "execution_count": null,
   "metadata": {},
   "outputs": [],
   "source": [
    "f(4,5)"
   ]
  },
  {
   "cell_type": "markdown",
   "metadata": {},
   "source": [
    "Lambda-Funktionen sind insbesondere dann hilfreich, wenn ich diese innerhalb einer anderen Funktion nutzen möchte. \n",
    "\n",
    "**Beispiel:** Sortieren einer Liste mithilfe der buildin Funktion `sorted`"
   ]
  },
  {
   "cell_type": "code",
   "execution_count": null,
   "metadata": {},
   "outputs": [],
   "source": [
    "string_liste = [\"Apfel\",\"Banane\",\"Orange\",\"Melone\"]\n",
    "sorted(string_liste)"
   ]
  },
  {
   "cell_type": "markdown",
   "metadata": {},
   "source": [
    "Die Funktion sortiert die Liste nach Anfangsbuchstaben. Was wenn ich die Liste aber nach z.B. dem zweiten Buchstaben sortieren möchte? \n",
    "\n",
    "Zunächst stelle ich mithilfe von `shift + tab + tab` fest, dass ich der Funktion `sorted` einen weiteren Parameter `key` übergeben kann. \n",
    "\n",
    "\n",
    "![Beispiel sorted](./assets/Beispiel_sorted.png)  \n",
    "\n",
    "<br></br>\n",
    "Hierzu könnte ich zunächst eine neue Funktion schreiben, die den zweiten Buchstaben eines jeden Wortes ausgibt"
   ]
  },
  {
   "cell_type": "code",
   "execution_count": null,
   "metadata": {},
   "outputs": [],
   "source": [
    "def second_letter(string):\n",
    "    return string[1] # Erinnerung: ein Eintrag in Python beginnt immer mit 0, d.h. der Eintrag \"1\" ist der zweite Wert"
   ]
  },
  {
   "cell_type": "code",
   "execution_count": null,
   "metadata": {},
   "outputs": [],
   "source": [
    "sorted(string_liste,key=second_letter)"
   ]
  },
  {
   "cell_type": "markdown",
   "metadata": {},
   "source": [
    "Die Funktion `second_letter` wird eigentlich nur einmal benötigt. Hier bietet es sich an mit einer `lambda Funktion` zu arbeiten."
   ]
  },
  {
   "cell_type": "code",
   "execution_count": null,
   "metadata": {},
   "outputs": [],
   "source": [
    "sorted(string_liste, key=lambda wort: wort[1])"
   ]
  },
  {
   "cell_type": "markdown",
   "metadata": {},
   "source": [
    "[<center><< zurück zu Einführung Jupyter Notebooks</center>](02_Jupyter_Notebooks.ipynb)[<center>weiter zur Module nutzen >></center>](04_Module_nutzen.ipynb)"
   ]
  }
 ],
 "metadata": {
  "hide_input": false,
  "kernelspec": {
   "display_name": "Python [conda env:anaconda3]",
   "language": "python",
   "name": "conda-env-anaconda3-py"
  },
  "language_info": {
   "codemirror_mode": {
    "name": "ipython",
    "version": 3
   },
   "file_extension": ".py",
   "mimetype": "text/x-python",
   "name": "python",
   "nbconvert_exporter": "python",
   "pygments_lexer": "ipython3",
   "version": "3.6.6"
  },
  "toc": {
   "base_numbering": 1,
   "nav_menu": {},
   "number_sections": true,
   "sideBar": true,
   "skip_h1_title": false,
   "title_cell": "Table of Contents",
   "title_sidebar": "Contents",
   "toc_cell": false,
   "toc_position": {},
   "toc_section_display": true,
   "toc_window_display": true
  }
 },
 "nbformat": 4,
 "nbformat_minor": 2
}
