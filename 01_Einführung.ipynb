{
 "cells": [
  {
   "cell_type": "markdown",
   "metadata": {},
   "source": [
    "# Ziele und Inhalte des Seminars"
   ]
  },
  {
   "cell_type": "markdown",
   "metadata": {},
   "source": [
    "Der digitale Wandel verändert im hohen Tempo Anforderungen an Fähigkeiten, Fertigkeiten und Wissen von Mitarbeitern. Aufgrund der signifikant steigenden Datenverfügbarkeit wird vor allem der Umgang mit Daten für Arbeitnehmer der Zukunft immer wichtiger. So ist es kein Zufall, dass der Stifterverband die „Datenkompetenz“ (Data Literacy) als sogenannten „Future Skill“ definiert. \n",
    "\n",
    "Mitarbeiter der Zukunft müssen aus immer größeren Datenmengen (entscheidungs-)relevante Informationen extrahieren und diese adressatengerecht kommunizieren können. Die so In der Praxis mangelt es an Experten, die diese Fähigkeiten beherrschen. Eine zusätzliche Komplexität entsteht dadurch, dass Datenexpertise alleine oft nicht ausreicht. Vielmehr ist es die Kombination aus Fach- (z.B. BWL) und Datenexpertise die es Unternehmen hilft, datengestützte Entscheidungen zu treffen, die wertstiftend sind.\n",
    "\n",
    "\n",
    "**Beispiel:** Ein Unternehmen wie z.B. Zalando hat unzählige Informationen über Produkte und Kunden. Welche Produkte waren am beliebtesten? Welche Produkte haben Personen, die weiße Hemden in den Warenkorb packten als nächstes angeklickt? Welche Produktinformationen haben geholfen, um die Rücksendequote zu reduzieren? etc.\n",
    "Die verfügbaren Daten können und sollten aus betriebswirtschaftlicher Sicht natürlich genutzt werden. Hierfür bedarf es aber offensichtlich einer Kombination aus betriebswirtschaftlichem Know-How und Datenkompetenz, da die Datenmengen so groß sind, dass (i) die Antworten auf die Fragen nicht auf den ersten Blick ersichtlich sind und (ii) oft nicht ersichtlich ist, welche Fragen überhaupt gestellt werden sollten.\n",
    "\n",
    "Insbesondere in der Fachdisziplin \"Betriebswirtschaftslehre\" mangelt es jedoch an Experten im Bereich Datenanalyse  (siehe hierzu z.B. eine [Titelstory](https://www.dropbox.com/s/sje54909pdl9579/20171017%20WiWo.pdf?dl=0) der Wirtschaftswoche aus Oktober 2017)\n",
    "\n",
    "Dieses Seminar hat deshalb zum **Ziel den Teilnehmern den immer wichtiger werdenden Bereich der Datenanalyse** näher zu bringen und somit einen ersten Schritt zu machen in Richtung Ausbildung von betriebswirtschaftlichen Fachexperten im Bereich Datenkompetenz. \n",
    "\n",
    "Ganz konkret verfolgt das Seminar **drei Ziele**\n",
    "\n",
    "1. Einfühurng in Jupyter Notebooks\n",
    "2. Einführung in die Programmierung mit Python\n",
    "3. Einführung in die Datenanalyse\n",
    "\n",
    "\n",
    "[Direkt zur Aufgabenstellung](06_Aufgabe.ipynb)"
   ]
  },
  {
   "cell_type": "markdown",
   "metadata": {},
   "source": [
    "## Einführung in die interaktive Programmierumgebung \"Jupyter Notebooks\"\n",
    "\n",
    "Im Gegensatz zur z.B. Software- oder Datenbankentwicklung erfordert die Datenanalyse ein oft anderes Vorgehen. Der Analyseprozess ist oft - getrieben aus der Unkenntis über die Details und Spezifika des zu analysierenden Datensatzes - sehr viel explorativer getrieben. \n",
    "\n",
    "Infolge des oft anderen Vorgehens hat sich seit einigen Jahren auch eine dafür passende Programmierumgebung entwickelt. Eine der gängigsten Umgebungen ist die open-source Software \"Jupyter Notebooks\" (siehe [hier](https://jupyter.org/)), die federführend von Forschern der Universität Berkley entwickelt wurde bzw. wird.  \n",
    "Im Rahmen des Seminars sollen alle Studierende deshalb die Programmierumgebung Jupyter Notebooks (oder dessen Derivat [Google Colab](https://colab.research.google.com/)) nutzen. \n",
    "\n",
    "Hinweis: Sie befinden Sie derzeit übrigens in einem solchen Notebook :-)"
   ]
  },
  {
   "cell_type": "markdown",
   "metadata": {},
   "source": [
    "## Einführung in die Programmierung mit \"Python\"\n",
    "\n",
    "Eine systematische Analyse von großen Datenmengen ist wegen der Größe und Dynamik von unternehmerischen Daten quasi nur mithilfe von Programmierung möglich. Insofern sollen Studierende im Rahmen des Seminars erste Schritte mit der Programmiersprache \"Python\" machen. Python ist mittlerweile eine der populärsten Programmiersprachen der Welt (siehe hierzu einen kürzlich erschienen [Artikel](https://www.economist.com/science-and-technology/2018/07/19/python-has-brought-computer-programming-to-a-vast-new-audience) im Economist) und eignet sich aus mehreren Gründen insbesondere auch für die Datenanalyse:\n",
    "\n",
    "1. Python ist relativ einfach und schnell zu erlernen, da die Syntax im Vergleich zu anderen Sprachen (ungewohnt) eher intuitiv ist\n",
    "\n",
    "2. Python eignet sich wegen der Vielzahl an vorhandenen Bibliotheken insbesondere für den Bereich Datenanalyse und ist mittlerweile Standardsprache für die meisten Anwendungsfälle im Bereich Machine Learning / Deep Learning\n",
    "\n",
    "3. Python ist dennoch eine \"all purpose\" Sprache und kann auch im Deployment genutzt werden (im Vergleich zu z.B. R)"
   ]
  },
  {
   "cell_type": "markdown",
   "metadata": {},
   "source": [
    "## Einführung in den Datenanalyseprozess\n",
    "\n",
    "Trotz des explorativen Vorgehens, ist der Prozess der Datenanalyse natürlich nicht unstrukturiert, sondern folgt gewissen logischen Schritten. Im Rahmen des Seminars sollen Studierende diese Schritte verstehen lernen und mit eigenen Datensätzen anwenden.  "
   ]
  },
  {
   "cell_type": "markdown",
   "metadata": {},
   "source": [
    "# Struktur des Seminars \n",
    "\n",
    "Am Ende des Seminars sollen Studierende in der Lage sein Datensätze eigenständig mithilfe von Python zu analysieren und die Ergebnisse und Erkenntnisse in Form eines Jupyter Notebooks zu kommunizieren.  \n",
    "\n",
    "**1. Treffen:** Kurzvorstellung des Seminars (zusammen mit allen anderen Seminarleitern)\n",
    "\n",
    "**2. Treffen:** Blockveranstaltung  \n",
    "\n",
    "Die Veranstaltung dient der Einführung in das Thema Datenanalyse mit Python. \n",
    "Anhand eines beispielhaften Datensatzes werden alle notwendigen Schritte - vom einlesen der Rohdaten bis hin zum finalen Ergebnisbericht - interaktiv in einen Jupyter Notebook durchgespielt. Hierbei wird bewusst ein sogenannter Top-Down-Ansatz gewählt, d.h. die Teilnehmer erhalten die Möglichkeit ohne größeres Vorwissen direkt in die Materie einzusteigen, ohne jedoch bereits alle Details selber durchführen zu können. Dies soll den Teilnehmern jedoch die notwendigen Gesamtzusammenhänge darlegen, um sie in die Lage zu versetzen, sich selber in das Thema einzuarbeiten. Die vorgestellten Jupyter Notebooks werden den Teilnehmern zur Verfügung gestellt und können auch während der Veranstaltung selber bearbeitet und durchgespielt werden. \n",
    "\n",
    "Am Ende der Veranstaltung wird die Aufgabenstellung und der zu analysierende Datensatz verteilt.\n",
    "\n",
    "**3. Treffen:** Fragerunde 1  \n",
    "\n",
    "Nach ca. der Hälfte der Bearbeitungszeit wird den Teilnehmern die Möglichkeit gegeben offene Fragen zum Datensatz, zum Vorgehen etc. zu stellen und diese gemeinsam mit den anderen Teilnehmern und dem Seminarleiter zu diskutieren. \n",
    "\n",
    "**4. Treffen:** Fragerunde 2\n",
    "\n",
    "Nach ca. der Hälfte der Bearbeitungszeit wird den Teilnehmern die Möglichkeit gegeben offene Fragen zum Datensatz, zum Vorgehen etc. zu stellen und diese gemeinsam mit den anderen Teilnehmern und dem Seminarleiter zu diskutieren. "
   ]
  },
  {
   "cell_type": "markdown",
   "metadata": {},
   "source": [
    "# Prüfungsform\n",
    "\n",
    "Benotet wird der zum Ende des Seminars einzureichende Ergebnis- bzw. Analysebericht. Der Bericht sollte als Jupyter Notebook verfasst sein und die Aufgabenstellung beantworten. Für den Seminarleiter sollte der Ergebnisbericht nachvollziehbar sein, d.h. das Notebook sollte alle Analysen und Ergebnisse sowie Erläuterungen zu den Erkenntnissen enthalten. "
   ]
  },
  {
   "cell_type": "markdown",
   "metadata": {},
   "source": [
    "# Voraussetzung für Teilnehmer"
   ]
  },
  {
   "cell_type": "markdown",
   "metadata": {},
   "source": [
    "## Inhaltlich"
   ]
  },
  {
   "cell_type": "markdown",
   "metadata": {},
   "source": [
    "Kern des Seminars ist die eigenständige Erarbeitung des Stoffes seitens der Teilnehmer. Es wird deshalb die Bereitschaft erwartet, sich in ein unbekanntes Thema selber einzuarbeiten. \n",
    "\n",
    "**Konkrete Erwartung**: mit \"eigenständige Erarbeitung des Stoffes\" ist gemeint, dass\n",
    "\n",
    "- die Earbeitung der `Python Grundlagen` über eigenständige Recherche erfolgt. Als nützliche Quellen können z.B. die [offizielle Python Dokumentation](https://www.python.org/) sowie [Stackoverflow](https://stackoverflow.com/) dienen  \n",
    "\n",
    "\n",
    "- die Einarbeitung in `Jupyter Notebooks` über eigenständige Recherche erfolgt. Als nützliche Quellen kann z.B. die [offizielle Jupyter Notebooks Seite](https://jupyter.org/) dienen  \n",
    "\n",
    "\n",
    "- die Erarbeitung von `Datenanalysetechniken` über eigenständige Recherchen erfolgt. Als nützliche Quelle kann z.B. [Kaggle](https://www.kaggle.com/) dienen\n",
    "\n",
    "\n",
    "Für die Teilnahme am Seminar wird darüber hinaus vorausgesetzt, dass `Vorkenntnisse im Programmieren` bestehen (nicht jedoch notwendigerweise in Python).\n",
    "\n",
    "**Für Fragen stehe ich natürlich jederzeit zur Verfügung!!**"
   ]
  },
  {
   "cell_type": "markdown",
   "metadata": {},
   "source": [
    "## Technisch"
   ]
  },
  {
   "cell_type": "markdown",
   "metadata": {},
   "source": [
    "Im Rahmen des Seminars werden Sie Jupyter Notebooks nutzen bzw. ein eigenes erstellen. Es gibt mehrere Möglichkeiten zur technischen Umsetzung:"
   ]
  },
  {
   "cell_type": "markdown",
   "metadata": {},
   "source": [
    "### Google Colab\n",
    "\n",
    "<font color='red'>EMPFOHLEN FÜR SEMINAR</font>\n",
    "\n",
    "Google Drive bietet seit neuestem die Möglichkeit an, Jupyter Notebooks in der Cloude (wie z.B. Google Docs) zu nutzen. Hierfür benötigen Sie lediglich einen [Google Drive Account](https://www.google.com/drive/). Aus diesem heraus können Sie Jupyter Notebooks dann als [Google Colab](https://colab.research.google.com/notebooks/welcome.ipynb) Notebooks nutzen.\n",
    "\n",
    "**Vorteile** kein Installationsaufwand. Sie können ihr Notebook auf jedem Rechner bearbeiten.\n",
    "\n",
    "**Nachteile:** tendenziell etwas langsamer als die lokale Variante; Sie benötigen einen Google Account"
   ]
  },
  {
   "cell_type": "markdown",
   "metadata": {},
   "source": [
    "### Lokale Installation"
   ]
  },
  {
   "cell_type": "markdown",
   "metadata": {},
   "source": [
    "Sollten ihr Interesse durch das Seminar geweckt worden sein, empfiehlt es sich `Python` und `Jupyter Notebooks` lokal zu installieren. Hierbei gibt es grundsätzlich verschiedenen Möglichkeiten. Empfohlen wird jedoch die Variante über den Package Manager `Anaconda`.\n",
    "\n",
    "Da Python 2.x ab Ende 2019 nicht mehr weiterentwickelt wird, sollten Sie unbedingt die neueste 3.x Version installieren!\n",
    "\n",
    "Folgen Sie einfach folgendem [Link](https://www.anaconda.com/distribution/#windows), um Anaconda zu installieren.  \n",
    "\n",
    "![Bild](./assets/Anaconda.png)\n",
    "\n",
    "Anaconda trägt dafür Sorge, dass sowohl `Python`, als auch `Jupyter Notebook` sowie die gängigsten Packete bereits installiert werden. Darüber hinaus handelt es sich bei Anaconda um den derzeit gängigsten (und besten) Packagemanager, der es ermöglicht neue Bibliotheken (dazu später mehr) ohne Probleme einzubinden"
   ]
  },
  {
   "cell_type": "markdown",
   "metadata": {},
   "source": [
    "[<center>weiter zur Einführung Jupyter Notebooks >></center>](02_Jupyter_Notebooks.ipynb)"
   ]
  }
 ],
 "metadata": {
  "hide_input": false,
  "kernelspec": {
   "display_name": "Python [conda env:anaconda3]",
   "language": "python",
   "name": "conda-env-anaconda3-py"
  },
  "language_info": {
   "codemirror_mode": {
    "name": "ipython",
    "version": 3
   },
   "file_extension": ".py",
   "mimetype": "text/x-python",
   "name": "python",
   "nbconvert_exporter": "python",
   "pygments_lexer": "ipython3",
   "version": "3.6.6"
  },
  "toc": {
   "base_numbering": 1,
   "nav_menu": {},
   "number_sections": true,
   "sideBar": true,
   "skip_h1_title": false,
   "title_cell": "Table of Contents",
   "title_sidebar": "Contents",
   "toc_cell": false,
   "toc_position": {
    "height": "calc(100% - 180px)",
    "left": "10px",
    "top": "150px",
    "width": "230.327px"
   },
   "toc_section_display": true,
   "toc_window_display": true
  }
 },
 "nbformat": 4,
 "nbformat_minor": 2
}
