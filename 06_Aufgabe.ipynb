{
 "cells": [
  {
   "cell_type": "markdown",
   "metadata": {},
   "source": [
    "# Aufgabenstellung"
   ]
  },
  {
   "cell_type": "markdown",
   "metadata": {},
   "source": [
    "Dei **E-Fashion GmbH** mit Sitz in Bielefeld ist im Bereich Online Retail tätig. Über die Webseite oder die App können dort Modeartikel aller Art erworben werden. \n",
    "\n",
    "Der Geschäftsführer, Herr Riehtähl, ist jedoch nicht wirklich zufrieden. Die Gesellschafter haben den Druck auf Ihn erhöht, da die Umsätze bei Konkurrenzunternehmen wesentlich stärker gestiegen sind. Es wurden deshalb bereits mehrere Ansätze gestartet, um zu verstehen, was die entscheidenden Umsatztreiber sind. Ziel war es auf Basis der gefundenen Umsatztreiber Maßnahmen zu ergreifen, um konkurrenzfähig zu bleiben. Die Controlling-Abteilung, die im Unternehmen verantwortlich für alle Art von ökonomischen Analysen ist, war leider wenig erfolgreich. Herr Erbsenzähler, der Leiter Controlling, musste einsehen, dass seine Mitarbeiter mit der Vielfalt der Daten, die aus verschiedenen Datenquellen stammen, nicht zurecht kam. \n",
    "\n",
    "Herr Riehtähl hat deshalb entschieden, einen neuen Anlauf zu starten. Er hat in letzter Zeit viel von den Potentialen der Datenanalyse gehört und ihm wurde bestätigt, dass die technischen Voraussetzungen auf für sein Unternehmen zu stemmen sind. \n",
    "\n",
    "Er möchte testen, ob die Umsatzprobleme mit Hilfe der Datenanalyse zumindest lokalisiert werden können. Dafür hat er Sie beauftragt und Sie gebeten die vorhandenen Daten zu analysieren und Ideen zu entwickeln, wie der Umsatz gesteigert werden könnte."
   ]
  },
  {
   "cell_type": "markdown",
   "metadata": {},
   "source": [
    "**konkrete Anforderungen an Sie:**\n",
    "\n",
    "Analysieren Sie - auf Basis der verfügbaren [Unternehmensdaten](https://github.com/zeidlerf/Seminar_DatenAnalyse/blob/master/data/Aufgabe_Daten.zip) - die Umsatztreiber der E-Fashion GmbH und entwickeln Sie auf Basis Ihrer Analyseergebnisse Empfehlungen, wie das Unternehmen zukünftig den Umsatzsteigern könnte.\n",
    "\n",
    "    fiktives Beispiel für ein Analyseergebnis und eine daraus abgeleitete Empfehlung: hohe Werbeaktivität hat besonders Mitte der Woche zu hohem Umsatz pro Kunde geführt. Werbung sollte zukünftig dementsprechend nicht an Wochenenden, sondern Mitte der Woche geschaltet werden.\n",
    "\n",
    "Beschreiben Sie alle Analysen, Ergebnisse und Empfehlungen in einem Jupyter Notebook. Nutzen Sie für die Analysen **geeignete Bibliotheken** und versuchen Sie die Ergebnisse ansprechend zu kommunizieren in dem Sie z.B. auch mit **Graphiken oder Visualisierungen** arbeiten. \n",
    "\n",
    "Da Herr Riehtähl kein Experte in der Datenanalyse oder in Python ist, sollten Sie Ihr **Vorgehen detailliert erläutern** und auch jedes genutzte Bibliothek (z.B. Pandas) erklären. \n",
    "\n",
    "Als Endergebnis Ihrer Arbei schicken Sie am Ende der Bearbeitungszeit (**03.06.2019, um 12.00 Uhr**) das finale Jupyter Notebook an die Emailadresse des Seminarleiters. Das Notebook sollte so aufgebaut sein, dass die Analyse - auf Basis der selben Daten, die Sie erhalten haben, vom Seminarleiter reproduziert werden kann.\n",
    "\n",
    "**Tipp**: Beginnen Sie zunächst mit einer Recherche zum Thema Datenanalyse mit Python und suchen Sie nach guten Beispielen/ Jupyter Notebooks. \n"
   ]
  }
 ],
 "metadata": {
  "hide_input": false,
  "kernelspec": {
   "display_name": "Python [conda env:anaconda3]",
   "language": "python",
   "name": "conda-env-anaconda3-py"
  },
  "language_info": {
   "codemirror_mode": {
    "name": "ipython",
    "version": 3
   },
   "file_extension": ".py",
   "mimetype": "text/x-python",
   "name": "python",
   "nbconvert_exporter": "python",
   "pygments_lexer": "ipython3",
   "version": "3.6.6"
  },
  "toc": {
   "base_numbering": 1,
   "nav_menu": {},
   "number_sections": true,
   "sideBar": true,
   "skip_h1_title": false,
   "title_cell": "Table of Contents",
   "title_sidebar": "Contents",
   "toc_cell": false,
   "toc_position": {},
   "toc_section_display": true,
   "toc_window_display": false
  }
 },
 "nbformat": 4,
 "nbformat_minor": 2
}
